{
 "cells": [
  {
   "cell_type": "code",
   "execution_count": null,
   "id": "da5af289-12ff-4c7b-b989-f872c05c3380",
   "metadata": {},
   "outputs": [],
   "source": [
    "!ollama pull llama3.2"
   ]
  },
  {
   "cell_type": "code",
   "execution_count": null,
   "id": "401ddcbb-a7b8-4af3-a215-339404977c7d",
   "metadata": {},
   "outputs": [],
   "source": [
    "headers = {\n",
    " \"User-Agent\": \"Mozilla/5.0 (Windows NT 10.0; Win64; x64) AppleWebKit/537.36 (KHTML, like Gecko) Chrome/117.0.0.0 Safari/537.36\"\n",
    "}\n",
    "\n",
    "response = requests.get(\"https://www.koraaitech.com/\", headers=headers)\n",
    "soup = BeautifulSoup(response.content, 'html.parser')\n",
    "title = soup.title.string if soup.title else \"No title found\"\n",
    "for irrelevant in soup.body([\"script\", \"style\", \"img\", \"input\"]):\n",
    "    irrelevant.decompose()\n",
    "text = soup.body.get_text(separator=\"\\n\", strip=True)\n",
    "\n",
    "prmpt=(f\" Please provide a concise summary of the following webpage.\\n\\n\"\n",
    "       f\" Title: {title}\\n\\n\"\n",
    "       f\" Content:\\n{text}\\n\\n\")\n",
    "\n",
    "\n",
    "messages = [     {\"role\": \"user\", \"content\": prmpt}  ]\n",
    "MODEL = \"llama3.2\"\n",
    "\n",
    "payload = {\n",
    "        \"model\": MODEL,\n",
    "        \"messages\": messages,\n",
    "        \"stream\": False\n",
    "    }\n",
    "response = requests.post(OLLAMA_API, json=payload, headers=HEADERS)\n",
    "\n",
    "display(Markdown(response.json()['message']['content']))"
   ]
  }
 ],
 "metadata": {
  "kernelspec": {
   "display_name": "Python 3 (ipykernel)",
   "language": "python",
   "name": "python3"
  },
  "language_info": {
   "codemirror_mode": {
    "name": "ipython",
    "version": 3
   },
   "file_extension": ".py",
   "mimetype": "text/x-python",
   "name": "python",
   "nbconvert_exporter": "python",
   "pygments_lexer": "ipython3",
   "version": "3.11.12"
  }
 },
 "nbformat": 4,
 "nbformat_minor": 5
}
